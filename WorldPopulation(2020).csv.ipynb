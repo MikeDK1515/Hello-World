{
 "cells": [
  {
   "cell_type": "code",
   "execution_count": 287,
   "metadata": {},
   "outputs": [],
   "source": [
    "import pandas as pd"
   ]
  },
  {
   "cell_type": "code",
   "execution_count": 288,
   "metadata": {},
   "outputs": [],
   "source": [
    "df = pd.read_csv(\"World_population(2020).csv\")"
   ]
  },
  {
   "cell_type": "code",
   "execution_count": 289,
   "metadata": {},
   "outputs": [],
   "source": [
    "import numpy as np"
   ]
  },
  {
   "cell_type": "code",
   "execution_count": 290,
   "metadata": {},
   "outputs": [],
   "source": [
    "df2 = df"
   ]
  },
  {
   "cell_type": "code",
   "execution_count": 291,
   "metadata": {
    "scrolled": true
   },
   "outputs": [
    {
     "data": {
      "text/html": [
       "<div>\n",
       "<style scoped>\n",
       "    .dataframe tbody tr th:only-of-type {\n",
       "        vertical-align: middle;\n",
       "    }\n",
       "\n",
       "    .dataframe tbody tr th {\n",
       "        vertical-align: top;\n",
       "    }\n",
       "\n",
       "    .dataframe thead th {\n",
       "        text-align: right;\n",
       "    }\n",
       "</style>\n",
       "<table border=\"1\" class=\"dataframe\">\n",
       "  <thead>\n",
       "    <tr style=\"text-align: right;\">\n",
       "      <th></th>\n",
       "      <th>Country (or dependency)</th>\n",
       "      <th>Population (2020)</th>\n",
       "      <th>Yearly Change</th>\n",
       "      <th>Net Change</th>\n",
       "      <th>Density (P/Km²)</th>\n",
       "      <th>Land Area (Km²)</th>\n",
       "      <th>Migrants (net)</th>\n",
       "      <th>Fert. Rate</th>\n",
       "      <th>Med. Age</th>\n",
       "      <th>Urban Pop %</th>\n",
       "      <th>World Share</th>\n",
       "    </tr>\n",
       "  </thead>\n",
       "  <tbody>\n",
       "    <tr>\n",
       "      <th>0</th>\n",
       "      <td>Afghanistan</td>\n",
       "      <td>38928346</td>\n",
       "      <td>2.33%</td>\n",
       "      <td>886592</td>\n",
       "      <td>60</td>\n",
       "      <td>652860</td>\n",
       "      <td>-62920.0</td>\n",
       "      <td>4.6</td>\n",
       "      <td>18</td>\n",
       "      <td>25%</td>\n",
       "      <td>0.50%</td>\n",
       "    </tr>\n",
       "    <tr>\n",
       "      <th>1</th>\n",
       "      <td>Albania</td>\n",
       "      <td>2877797</td>\n",
       "      <td>-0.11%</td>\n",
       "      <td>-3120</td>\n",
       "      <td>105</td>\n",
       "      <td>27400</td>\n",
       "      <td>-14000.0</td>\n",
       "      <td>1.6</td>\n",
       "      <td>36</td>\n",
       "      <td>63%</td>\n",
       "      <td>0.04%</td>\n",
       "    </tr>\n",
       "    <tr>\n",
       "      <th>2</th>\n",
       "      <td>Algeria</td>\n",
       "      <td>43851044</td>\n",
       "      <td>1.85%</td>\n",
       "      <td>797990</td>\n",
       "      <td>18</td>\n",
       "      <td>2381740</td>\n",
       "      <td>-10000.0</td>\n",
       "      <td>3.1</td>\n",
       "      <td>29</td>\n",
       "      <td>73%</td>\n",
       "      <td>0.56%</td>\n",
       "    </tr>\n",
       "    <tr>\n",
       "      <th>3</th>\n",
       "      <td>American Samoa</td>\n",
       "      <td>55191</td>\n",
       "      <td>-0.22%</td>\n",
       "      <td>-121</td>\n",
       "      <td>276</td>\n",
       "      <td>200</td>\n",
       "      <td>NaN</td>\n",
       "      <td>N.A.</td>\n",
       "      <td>N.A.</td>\n",
       "      <td>88%</td>\n",
       "      <td>0.00%</td>\n",
       "    </tr>\n",
       "    <tr>\n",
       "      <th>4</th>\n",
       "      <td>Andorra</td>\n",
       "      <td>77265</td>\n",
       "      <td>0.16%</td>\n",
       "      <td>123</td>\n",
       "      <td>164</td>\n",
       "      <td>470</td>\n",
       "      <td>NaN</td>\n",
       "      <td>N.A.</td>\n",
       "      <td>N.A.</td>\n",
       "      <td>88%</td>\n",
       "      <td>0.00%</td>\n",
       "    </tr>\n",
       "  </tbody>\n",
       "</table>\n",
       "</div>"
      ],
      "text/plain": [
       "  Country (or dependency)  Population (2020) Yearly Change  Net Change  \\\n",
       "0             Afghanistan           38928346         2.33%      886592   \n",
       "1                 Albania            2877797        -0.11%       -3120   \n",
       "2                 Algeria           43851044         1.85%      797990   \n",
       "3          American Samoa              55191        -0.22%        -121   \n",
       "4                 Andorra              77265         0.16%         123   \n",
       "\n",
       "   Density (P/Km²)  Land Area (Km²)  Migrants (net) Fert. Rate Med. Age  \\\n",
       "0               60           652860        -62920.0        4.6       18   \n",
       "1              105            27400        -14000.0        1.6       36   \n",
       "2               18          2381740        -10000.0        3.1       29   \n",
       "3              276              200             NaN       N.A.     N.A.   \n",
       "4              164              470             NaN       N.A.     N.A.   \n",
       "\n",
       "  Urban Pop % World Share  \n",
       "0         25%       0.50%  \n",
       "1         63%       0.04%  \n",
       "2         73%       0.56%  \n",
       "3         88%       0.00%  \n",
       "4         88%       0.00%  "
      ]
     },
     "execution_count": 291,
     "metadata": {},
     "output_type": "execute_result"
    }
   ],
   "source": [
    "df.head()"
   ]
  },
  {
   "cell_type": "code",
   "execution_count": 292,
   "metadata": {
    "scrolled": true
   },
   "outputs": [
    {
     "name": "stdout",
     "output_type": "stream",
     "text": [
      "<class 'pandas.core.frame.DataFrame'>\n",
      "RangeIndex: 235 entries, 0 to 234\n",
      "Data columns (total 11 columns):\n",
      " #   Column                   Non-Null Count  Dtype  \n",
      "---  ------                   --------------  -----  \n",
      " 0   Country (or dependency)  235 non-null    object \n",
      " 1   Population (2020)        235 non-null    int64  \n",
      " 2   Yearly Change            235 non-null    object \n",
      " 3   Net Change               235 non-null    int64  \n",
      " 4   Density (P/Km²)          235 non-null    int64  \n",
      " 5   Land Area (Km²)          235 non-null    int64  \n",
      " 6   Migrants (net)           201 non-null    float64\n",
      " 7   Fert. Rate               235 non-null    object \n",
      " 8   Med. Age                 235 non-null    object \n",
      " 9   Urban Pop %              235 non-null    object \n",
      " 10  World Share              235 non-null    object \n",
      "dtypes: float64(1), int64(4), object(6)\n",
      "memory usage: 20.3+ KB\n"
     ]
    }
   ],
   "source": [
    "df.info()"
   ]
  },
  {
   "cell_type": "code",
   "execution_count": 293,
   "metadata": {},
   "outputs": [],
   "source": [
    "df1 = df"
   ]
  },
  {
   "cell_type": "code",
   "execution_count": 294,
   "metadata": {},
   "outputs": [
    {
     "data": {
      "text/plain": [
       "0"
      ]
     },
     "execution_count": 294,
     "metadata": {},
     "output_type": "execute_result"
    }
   ],
   "source": [
    "df1.duplicated(subset=None,keep='first').sum() #2. Duplicate Data : As you can see there's no duplicated rows in my database."
   ]
  },
  {
   "cell_type": "code",
   "execution_count": 295,
   "metadata": {},
   "outputs": [
    {
     "data": {
      "text/plain": [
       "Country (or dependency)     object\n",
       "Population (2020)            int64\n",
       "Yearly Change               object\n",
       "Net Change                   int64\n",
       "Density (P/Km²)              int64\n",
       "Land Area (Km²)              int64\n",
       "Migrants (net)             float64\n",
       "Fert. Rate                  object\n",
       "Med. Age                    object\n",
       "Urban Pop %                 object\n",
       "World Share                 object\n",
       "dtype: object"
      ]
     },
     "execution_count": 295,
     "metadata": {},
     "output_type": "execute_result"
    }
   ],
   "source": [
    "df.dtypes #3 Data Types"
   ]
  },
  {
   "cell_type": "code",
   "execution_count": 296,
   "metadata": {},
   "outputs": [],
   "source": [
    "df1 = df1.replace(\"N.A.\", np.nan)"
   ]
  },
  {
   "cell_type": "code",
   "execution_count": 297,
   "metadata": {},
   "outputs": [],
   "source": [
    "df1['World Share']=df1['World Share'].str.replace(\"%\", \"\")"
   ]
  },
  {
   "cell_type": "code",
   "execution_count": 298,
   "metadata": {},
   "outputs": [],
   "source": [
    "df1['Yearly Change']=df1['Yearly Change'].str.replace(\"%\", \"\")"
   ]
  },
  {
   "cell_type": "code",
   "execution_count": 299,
   "metadata": {},
   "outputs": [],
   "source": [
    "df1['Urban Pop %']=df1['Urban Pop %'].str.replace(\"%\", \"\")"
   ]
  },
  {
   "cell_type": "code",
   "execution_count": 300,
   "metadata": {},
   "outputs": [
    {
     "data": {
      "text/html": [
       "<div>\n",
       "<style scoped>\n",
       "    .dataframe tbody tr th:only-of-type {\n",
       "        vertical-align: middle;\n",
       "    }\n",
       "\n",
       "    .dataframe tbody tr th {\n",
       "        vertical-align: top;\n",
       "    }\n",
       "\n",
       "    .dataframe thead th {\n",
       "        text-align: right;\n",
       "    }\n",
       "</style>\n",
       "<table border=\"1\" class=\"dataframe\">\n",
       "  <thead>\n",
       "    <tr style=\"text-align: right;\">\n",
       "      <th></th>\n",
       "      <th>Country (or dependency)</th>\n",
       "      <th>Population (2020)</th>\n",
       "      <th>Yearly Change</th>\n",
       "      <th>Net Change</th>\n",
       "      <th>Density (P/Km²)</th>\n",
       "      <th>Land Area (Km²)</th>\n",
       "      <th>Migrants (net)</th>\n",
       "      <th>Fert. Rate</th>\n",
       "      <th>Med. Age</th>\n",
       "      <th>Urban Pop %</th>\n",
       "      <th>World Share</th>\n",
       "    </tr>\n",
       "  </thead>\n",
       "  <tbody>\n",
       "    <tr>\n",
       "      <th>0</th>\n",
       "      <td>Afghanistan</td>\n",
       "      <td>38928346</td>\n",
       "      <td>2.33</td>\n",
       "      <td>886592</td>\n",
       "      <td>60</td>\n",
       "      <td>652860</td>\n",
       "      <td>-62920.0</td>\n",
       "      <td>4.6</td>\n",
       "      <td>18</td>\n",
       "      <td>25</td>\n",
       "      <td>0.50</td>\n",
       "    </tr>\n",
       "    <tr>\n",
       "      <th>1</th>\n",
       "      <td>Albania</td>\n",
       "      <td>2877797</td>\n",
       "      <td>-0.11</td>\n",
       "      <td>-3120</td>\n",
       "      <td>105</td>\n",
       "      <td>27400</td>\n",
       "      <td>-14000.0</td>\n",
       "      <td>1.6</td>\n",
       "      <td>36</td>\n",
       "      <td>63</td>\n",
       "      <td>0.04</td>\n",
       "    </tr>\n",
       "    <tr>\n",
       "      <th>2</th>\n",
       "      <td>Algeria</td>\n",
       "      <td>43851044</td>\n",
       "      <td>1.85</td>\n",
       "      <td>797990</td>\n",
       "      <td>18</td>\n",
       "      <td>2381740</td>\n",
       "      <td>-10000.0</td>\n",
       "      <td>3.1</td>\n",
       "      <td>29</td>\n",
       "      <td>73</td>\n",
       "      <td>0.56</td>\n",
       "    </tr>\n",
       "    <tr>\n",
       "      <th>3</th>\n",
       "      <td>American Samoa</td>\n",
       "      <td>55191</td>\n",
       "      <td>-0.22</td>\n",
       "      <td>-121</td>\n",
       "      <td>276</td>\n",
       "      <td>200</td>\n",
       "      <td>NaN</td>\n",
       "      <td>NaN</td>\n",
       "      <td>NaN</td>\n",
       "      <td>88</td>\n",
       "      <td>0.00</td>\n",
       "    </tr>\n",
       "    <tr>\n",
       "      <th>4</th>\n",
       "      <td>Andorra</td>\n",
       "      <td>77265</td>\n",
       "      <td>0.16</td>\n",
       "      <td>123</td>\n",
       "      <td>164</td>\n",
       "      <td>470</td>\n",
       "      <td>NaN</td>\n",
       "      <td>NaN</td>\n",
       "      <td>NaN</td>\n",
       "      <td>88</td>\n",
       "      <td>0.00</td>\n",
       "    </tr>\n",
       "  </tbody>\n",
       "</table>\n",
       "</div>"
      ],
      "text/plain": [
       "  Country (or dependency)  Population (2020) Yearly Change  Net Change  \\\n",
       "0             Afghanistan           38928346          2.33      886592   \n",
       "1                 Albania            2877797         -0.11       -3120   \n",
       "2                 Algeria           43851044          1.85      797990   \n",
       "3          American Samoa              55191         -0.22        -121   \n",
       "4                 Andorra              77265          0.16         123   \n",
       "\n",
       "   Density (P/Km²)  Land Area (Km²)  Migrants (net) Fert. Rate Med. Age  \\\n",
       "0               60           652860        -62920.0        4.6       18   \n",
       "1              105            27400        -14000.0        1.6       36   \n",
       "2               18          2381740        -10000.0        3.1       29   \n",
       "3              276              200             NaN        NaN      NaN   \n",
       "4              164              470             NaN        NaN      NaN   \n",
       "\n",
       "  Urban Pop % World Share  \n",
       "0          25        0.50  \n",
       "1          63        0.04  \n",
       "2          73        0.56  \n",
       "3          88        0.00  \n",
       "4          88        0.00  "
      ]
     },
     "execution_count": 300,
     "metadata": {},
     "output_type": "execute_result"
    }
   ],
   "source": [
    "df1.head()"
   ]
  },
  {
   "cell_type": "code",
   "execution_count": 301,
   "metadata": {},
   "outputs": [],
   "source": [
    "df1['Fert. Rate']=df1['Fert. Rate'].astype(float)"
   ]
  },
  {
   "cell_type": "code",
   "execution_count": 302,
   "metadata": {},
   "outputs": [],
   "source": [
    "df1['World Share']=df1['World Share'].astype(float)"
   ]
  },
  {
   "cell_type": "code",
   "execution_count": 303,
   "metadata": {},
   "outputs": [],
   "source": [
    "df1['Yearly Change']=df1['Yearly Change'].astype(float)"
   ]
  },
  {
   "cell_type": "code",
   "execution_count": 304,
   "metadata": {},
   "outputs": [],
   "source": [
    "df1['Urban Pop %']=df1['Urban Pop %'].astype(float)"
   ]
  },
  {
   "cell_type": "code",
   "execution_count": 305,
   "metadata": {},
   "outputs": [
    {
     "data": {
      "text/plain": [
       "Country (or dependency)     object\n",
       "Population (2020)            int64\n",
       "Yearly Change              float64\n",
       "Net Change                   int64\n",
       "Density (P/Km²)              int64\n",
       "Land Area (Km²)              int64\n",
       "Migrants (net)             float64\n",
       "Fert. Rate                 float64\n",
       "Med. Age                    object\n",
       "Urban Pop %                float64\n",
       "World Share                float64\n",
       "dtype: object"
      ]
     },
     "execution_count": 305,
     "metadata": {},
     "output_type": "execute_result"
    }
   ],
   "source": [
    "df1.dtypes #3 Updated data types"
   ]
  },
  {
   "cell_type": "code",
   "execution_count": 306,
   "metadata": {},
   "outputs": [
    {
     "data": {
      "text/plain": [
       "Country (or dependency)     0\n",
       "Population (2020)           0\n",
       "Yearly Change               0\n",
       "Net Change                  0\n",
       "Density (P/Km²)             0\n",
       "Land Area (Km²)             0\n",
       "Migrants (net)             34\n",
       "Fert. Rate                  0\n",
       "Med. Age                    0\n",
       "Urban Pop %                 0\n",
       "World Share                 0\n",
       "dtype: int64"
      ]
     },
     "execution_count": 306,
     "metadata": {},
     "output_type": "execute_result"
    }
   ],
   "source": [
    "df2.isna().sum() #4 Missing Data"
   ]
  },
  {
   "cell_type": "code",
   "execution_count": 307,
   "metadata": {},
   "outputs": [
    {
     "data": {
      "text/plain": [
       "41"
      ]
     },
     "execution_count": 307,
     "metadata": {},
     "output_type": "execute_result"
    }
   ],
   "source": [
    "df2.shape[0] - df1.dropna().shape[0]"
   ]
  },
  {
   "cell_type": "code",
   "execution_count": 308,
   "metadata": {},
   "outputs": [],
   "source": [
    "df_mean = df[\"Migrants (net)\"].mean()"
   ]
  },
  {
   "cell_type": "code",
   "execution_count": 309,
   "metadata": {},
   "outputs": [
    {
     "data": {
      "text/plain": [
       "6.2835820895522385"
      ]
     },
     "execution_count": 309,
     "metadata": {},
     "output_type": "execute_result"
    }
   ],
   "source": [
    "df_mean"
   ]
  },
  {
   "cell_type": "code",
   "execution_count": 316,
   "metadata": {},
   "outputs": [],
   "source": [
    "df2[\"Migrants (net)\"] = df1[\"Migrants (net)\"].fillna(value = df_mean)"
   ]
  },
  {
   "cell_type": "code",
   "execution_count": 317,
   "metadata": {},
   "outputs": [
    {
     "data": {
      "text/plain": [
       "Country (or dependency)    0\n",
       "Population (2020)          0\n",
       "Yearly Change              0\n",
       "Net Change                 0\n",
       "Density (P/Km²)            0\n",
       "Land Area (Km²)            0\n",
       "Migrants (net)             0\n",
       "Fert. Rate                 0\n",
       "Med. Age                   0\n",
       "Urban Pop %                0\n",
       "World Share                0\n",
       "Urban Pop %                0\n",
       "dtype: int64"
      ]
     },
     "execution_count": 317,
     "metadata": {},
     "output_type": "execute_result"
    }
   ],
   "source": [
    "df2.isna().sum() #4 There we go there's no missing data anymore"
   ]
  },
  {
   "cell_type": "code",
   "execution_count": 318,
   "metadata": {
    "scrolled": true
   },
   "outputs": [],
   "source": [
    "Q1 = df['Migrants (net)'].quantile(0.25) #5 Outliers\n",
    "Q3 = df['Migrants (net)'].quantile(0.75)\n",
    "IQR = Q3-Q1\n",
    "IQRMult = 1.5*IQR\n"
   ]
  },
  {
   "cell_type": "code",
   "execution_count": 319,
   "metadata": {},
   "outputs": [
    {
     "data": {
      "text/plain": [
       "13508.0"
      ]
     },
     "execution_count": 319,
     "metadata": {},
     "output_type": "execute_result"
    }
   ],
   "source": [
    "IQR"
   ]
  },
  {
   "cell_type": "code",
   "execution_count": 320,
   "metadata": {},
   "outputs": [
    {
     "data": {
      "text/plain": [
       "20262.0"
      ]
     },
     "execution_count": 320,
     "metadata": {},
     "output_type": "execute_result"
    }
   ],
   "source": [
    "IQRMult"
   ]
  },
  {
   "cell_type": "code",
   "execution_count": 321,
   "metadata": {},
   "outputs": [],
   "source": [
    "MigrantOutliers = pd.concat([df.loc[df['Migrants (net)'] > (Q3 + IQRMult)], df.loc[df['Migrants (net)'] < (Q1 - IQRMult)]])"
   ]
  },
  {
   "cell_type": "code",
   "execution_count": 323,
   "metadata": {},
   "outputs": [
    {
     "data": {
      "text/plain": [
       "(69, 12)"
      ]
     },
     "execution_count": 323,
     "metadata": {},
     "output_type": "execute_result"
    }
   ],
   "source": [
    "MigrantOutliers.shape"
   ]
  },
  {
   "cell_type": "code",
   "execution_count": 324,
   "metadata": {},
   "outputs": [],
   "source": [
    "df2 = pd.concat([df2,MigrantOutliers]).drop_duplicates(keep=False)"
   ]
  },
  {
   "cell_type": "code",
   "execution_count": 325,
   "metadata": {},
   "outputs": [
    {
     "data": {
      "text/plain": [
       "(166, 12)"
      ]
     },
     "execution_count": 325,
     "metadata": {},
     "output_type": "execute_result"
    }
   ],
   "source": [
    "df2.shape #5 New updated dataframe"
   ]
  },
  {
   "cell_type": "code",
   "execution_count": 326,
   "metadata": {},
   "outputs": [
    {
     "data": {
      "text/plain": [
       "(235, 11)"
      ]
     },
     "execution_count": 326,
     "metadata": {},
     "output_type": "execute_result"
    }
   ],
   "source": [
    "df1.shape #5 Old dataframe"
   ]
  },
  {
   "cell_type": "code",
   "execution_count": 327,
   "metadata": {},
   "outputs": [
    {
     "data": {
      "text/html": [
       "<div>\n",
       "<style scoped>\n",
       "    .dataframe tbody tr th:only-of-type {\n",
       "        vertical-align: middle;\n",
       "    }\n",
       "\n",
       "    .dataframe tbody tr th {\n",
       "        vertical-align: top;\n",
       "    }\n",
       "\n",
       "    .dataframe thead th {\n",
       "        text-align: right;\n",
       "    }\n",
       "</style>\n",
       "<table border=\"1\" class=\"dataframe\">\n",
       "  <thead>\n",
       "    <tr style=\"text-align: right;\">\n",
       "      <th></th>\n",
       "      <th>Country (or dependency)</th>\n",
       "      <th>Population (2020)</th>\n",
       "      <th>Yearly Change</th>\n",
       "      <th>Net Change</th>\n",
       "      <th>Density (P/Km²)</th>\n",
       "      <th>Land Area (Km²)</th>\n",
       "      <th>Migrants (net)</th>\n",
       "      <th>Fert. Rate</th>\n",
       "      <th>Med. Age</th>\n",
       "      <th>Urban Pop %</th>\n",
       "      <th>World Share</th>\n",
       "      <th>Urban Pop %</th>\n",
       "    </tr>\n",
       "  </thead>\n",
       "  <tbody>\n",
       "    <tr>\n",
       "      <th>11</th>\n",
       "      <td>Australia</td>\n",
       "      <td>25499884</td>\n",
       "      <td>1.18%</td>\n",
       "      <td>296686</td>\n",
       "      <td>3</td>\n",
       "      <td>7682300</td>\n",
       "      <td>158246.0</td>\n",
       "      <td>1.8</td>\n",
       "      <td>38</td>\n",
       "      <td>86%</td>\n",
       "      <td>0.33%</td>\n",
       "      <td>86.0</td>\n",
       "    </tr>\n",
       "    <tr>\n",
       "      <th>12</th>\n",
       "      <td>Austria</td>\n",
       "      <td>9006398</td>\n",
       "      <td>0.57%</td>\n",
       "      <td>51296</td>\n",
       "      <td>109</td>\n",
       "      <td>82409</td>\n",
       "      <td>65000.0</td>\n",
       "      <td>1.5</td>\n",
       "      <td>43</td>\n",
       "      <td>57%</td>\n",
       "      <td>0.12%</td>\n",
       "      <td>57.0</td>\n",
       "    </tr>\n",
       "    <tr>\n",
       "      <th>15</th>\n",
       "      <td>Bahrain</td>\n",
       "      <td>1701575</td>\n",
       "      <td>3.68%</td>\n",
       "      <td>60403</td>\n",
       "      <td>2239</td>\n",
       "      <td>760</td>\n",
       "      <td>47800.0</td>\n",
       "      <td>2</td>\n",
       "      <td>32</td>\n",
       "      <td>89%</td>\n",
       "      <td>0.02%</td>\n",
       "      <td>89.0</td>\n",
       "    </tr>\n",
       "    <tr>\n",
       "      <th>19</th>\n",
       "      <td>Belgium</td>\n",
       "      <td>11589623</td>\n",
       "      <td>0.44%</td>\n",
       "      <td>50295</td>\n",
       "      <td>383</td>\n",
       "      <td>30280</td>\n",
       "      <td>48000.0</td>\n",
       "      <td>1.7</td>\n",
       "      <td>42</td>\n",
       "      <td>98%</td>\n",
       "      <td>0.15%</td>\n",
       "      <td>98.0</td>\n",
       "    </tr>\n",
       "    <tr>\n",
       "      <th>36</th>\n",
       "      <td>Canada</td>\n",
       "      <td>37742154</td>\n",
       "      <td>0.89%</td>\n",
       "      <td>331107</td>\n",
       "      <td>4</td>\n",
       "      <td>9093510</td>\n",
       "      <td>242032.0</td>\n",
       "      <td>1.5</td>\n",
       "      <td>41</td>\n",
       "      <td>81%</td>\n",
       "      <td>0.48%</td>\n",
       "      <td>81.0</td>\n",
       "    </tr>\n",
       "  </tbody>\n",
       "</table>\n",
       "</div>"
      ],
      "text/plain": [
       "   Country (or dependency)  Population (2020) Yearly Change  Net Change  \\\n",
       "11               Australia           25499884         1.18%      296686   \n",
       "12                 Austria            9006398         0.57%       51296   \n",
       "15                 Bahrain            1701575         3.68%       60403   \n",
       "19                 Belgium           11589623         0.44%       50295   \n",
       "36                  Canada           37742154         0.89%      331107   \n",
       "\n",
       "    Density (P/Km²)  Land Area (Km²)  Migrants (net) Fert. Rate Med. Age  \\\n",
       "11                3          7682300        158246.0        1.8       38   \n",
       "12              109            82409         65000.0        1.5       43   \n",
       "15             2239              760         47800.0          2       32   \n",
       "19              383            30280         48000.0        1.7       42   \n",
       "36                4          9093510        242032.0        1.5       41   \n",
       "\n",
       "   Urban Pop % World Share  Urban Pop %   \n",
       "11         86%       0.33%          86.0  \n",
       "12         57%       0.12%          57.0  \n",
       "15         89%       0.02%          89.0  \n",
       "19         98%       0.15%          98.0  \n",
       "36         81%       0.48%          81.0  "
      ]
     },
     "execution_count": 327,
     "metadata": {},
     "output_type": "execute_result"
    }
   ],
   "source": [
    "MigrantOutliers.head()"
   ]
  },
  {
   "cell_type": "code",
   "execution_count": 329,
   "metadata": {},
   "outputs": [],
   "source": [
    "df2.to_csv(\"World_Population_cleaned.csv\", index=False)"
   ]
  },
  {
   "cell_type": "code",
   "execution_count": 330,
   "metadata": {},
   "outputs": [],
   "source": [
    "World_cleaned = pd.read_csv(\"World_Population_cleaned.csv\")"
   ]
  },
  {
   "cell_type": "code",
   "execution_count": 331,
   "metadata": {},
   "outputs": [
    {
     "data": {
      "text/html": [
       "<div>\n",
       "<style scoped>\n",
       "    .dataframe tbody tr th:only-of-type {\n",
       "        vertical-align: middle;\n",
       "    }\n",
       "\n",
       "    .dataframe tbody tr th {\n",
       "        vertical-align: top;\n",
       "    }\n",
       "\n",
       "    .dataframe thead th {\n",
       "        text-align: right;\n",
       "    }\n",
       "</style>\n",
       "<table border=\"1\" class=\"dataframe\">\n",
       "  <thead>\n",
       "    <tr style=\"text-align: right;\">\n",
       "      <th></th>\n",
       "      <th>Country (or dependency)</th>\n",
       "      <th>Population (2020)</th>\n",
       "      <th>Yearly Change</th>\n",
       "      <th>Net Change</th>\n",
       "      <th>Density (P/Km²)</th>\n",
       "      <th>Land Area (Km²)</th>\n",
       "      <th>Migrants (net)</th>\n",
       "      <th>Fert. Rate</th>\n",
       "      <th>Med. Age</th>\n",
       "      <th>Urban Pop %</th>\n",
       "      <th>World Share</th>\n",
       "      <th>Urban Pop %</th>\n",
       "    </tr>\n",
       "  </thead>\n",
       "  <tbody>\n",
       "    <tr>\n",
       "      <th>0</th>\n",
       "      <td>Albania</td>\n",
       "      <td>2877797</td>\n",
       "      <td>-0.11%</td>\n",
       "      <td>-3120</td>\n",
       "      <td>105</td>\n",
       "      <td>27400</td>\n",
       "      <td>-14000.000000</td>\n",
       "      <td>1.6</td>\n",
       "      <td>36</td>\n",
       "      <td>63%</td>\n",
       "      <td>0.04%</td>\n",
       "      <td>63.0</td>\n",
       "    </tr>\n",
       "    <tr>\n",
       "      <th>1</th>\n",
       "      <td>Algeria</td>\n",
       "      <td>43851044</td>\n",
       "      <td>1.85%</td>\n",
       "      <td>797990</td>\n",
       "      <td>18</td>\n",
       "      <td>2381740</td>\n",
       "      <td>-10000.000000</td>\n",
       "      <td>3.1</td>\n",
       "      <td>29</td>\n",
       "      <td>73%</td>\n",
       "      <td>0.56%</td>\n",
       "      <td>73.0</td>\n",
       "    </tr>\n",
       "    <tr>\n",
       "      <th>2</th>\n",
       "      <td>American Samoa</td>\n",
       "      <td>55191</td>\n",
       "      <td>-0.22%</td>\n",
       "      <td>-121</td>\n",
       "      <td>276</td>\n",
       "      <td>200</td>\n",
       "      <td>6.283582</td>\n",
       "      <td>N.A.</td>\n",
       "      <td>N.A.</td>\n",
       "      <td>88%</td>\n",
       "      <td>0.00%</td>\n",
       "      <td>88.0</td>\n",
       "    </tr>\n",
       "    <tr>\n",
       "      <th>3</th>\n",
       "      <td>Andorra</td>\n",
       "      <td>77265</td>\n",
       "      <td>0.16%</td>\n",
       "      <td>123</td>\n",
       "      <td>164</td>\n",
       "      <td>470</td>\n",
       "      <td>6.283582</td>\n",
       "      <td>N.A.</td>\n",
       "      <td>N.A.</td>\n",
       "      <td>88%</td>\n",
       "      <td>0.00%</td>\n",
       "      <td>88.0</td>\n",
       "    </tr>\n",
       "    <tr>\n",
       "      <th>4</th>\n",
       "      <td>Angola</td>\n",
       "      <td>32866272</td>\n",
       "      <td>3.27%</td>\n",
       "      <td>1040977</td>\n",
       "      <td>26</td>\n",
       "      <td>1246700</td>\n",
       "      <td>6413.000000</td>\n",
       "      <td>5.6</td>\n",
       "      <td>17</td>\n",
       "      <td>67%</td>\n",
       "      <td>0.42%</td>\n",
       "      <td>67.0</td>\n",
       "    </tr>\n",
       "  </tbody>\n",
       "</table>\n",
       "</div>"
      ],
      "text/plain": [
       "  Country (or dependency)  Population (2020) Yearly Change  Net Change  \\\n",
       "0                 Albania            2877797        -0.11%       -3120   \n",
       "1                 Algeria           43851044         1.85%      797990   \n",
       "2          American Samoa              55191        -0.22%        -121   \n",
       "3                 Andorra              77265         0.16%         123   \n",
       "4                  Angola           32866272         3.27%     1040977   \n",
       "\n",
       "   Density (P/Km²)  Land Area (Km²)  Migrants (net) Fert. Rate Med. Age  \\\n",
       "0              105            27400   -14000.000000        1.6       36   \n",
       "1               18          2381740   -10000.000000        3.1       29   \n",
       "2              276              200        6.283582       N.A.     N.A.   \n",
       "3              164              470        6.283582       N.A.     N.A.   \n",
       "4               26          1246700     6413.000000        5.6       17   \n",
       "\n",
       "  Urban Pop % World Share  Urban Pop %   \n",
       "0         63%       0.04%          63.0  \n",
       "1         73%       0.56%          73.0  \n",
       "2         88%       0.00%          88.0  \n",
       "3         88%       0.00%          88.0  \n",
       "4         67%       0.42%          67.0  "
      ]
     },
     "execution_count": 331,
     "metadata": {},
     "output_type": "execute_result"
    }
   ],
   "source": [
    "World_cleaned.head()"
   ]
  },
  {
   "cell_type": "code",
   "execution_count": 335,
   "metadata": {},
   "outputs": [
    {
     "data": {
      "text/plain": [
       "Country (or dependency)    0\n",
       "Population (2020)          0\n",
       "Yearly Change              0\n",
       "Net Change                 0\n",
       "Density (P/Km²)            0\n",
       "Land Area (Km²)            0\n",
       "Migrants (net)             0\n",
       "Fert. Rate                 0\n",
       "Med. Age                   0\n",
       "Urban Pop %                0\n",
       "World Share                0\n",
       "Urban Pop %                0\n",
       "dtype: int64"
      ]
     },
     "execution_count": 335,
     "metadata": {},
     "output_type": "execute_result"
    }
   ],
   "source": [
    "World_cleaned.isna().sum()"
   ]
  },
  {
   "cell_type": "code",
   "execution_count": 336,
   "metadata": {},
   "outputs": [
    {
     "data": {
      "text/plain": [
       "0"
      ]
     },
     "execution_count": 336,
     "metadata": {},
     "output_type": "execute_result"
    }
   ],
   "source": [
    "World_cleaned.duplicated(subset=None, keep='first').sum()"
   ]
  },
  {
   "cell_type": "code",
   "execution_count": 337,
   "metadata": {},
   "outputs": [
    {
     "data": {
      "text/plain": [
       "(166, 12)"
      ]
     },
     "execution_count": 337,
     "metadata": {},
     "output_type": "execute_result"
    }
   ],
   "source": [
    "World_cleaned.shape"
   ]
  },
  {
   "cell_type": "code",
   "execution_count": 338,
   "metadata": {},
   "outputs": [
    {
     "data": {
      "text/plain": [
       "Country (or dependency)     object\n",
       "Population (2020)            int64\n",
       "Yearly Change               object\n",
       "Net Change                   int64\n",
       "Density (P/Km²)              int64\n",
       "Land Area (Km²)              int64\n",
       "Migrants (net)             float64\n",
       "Fert. Rate                  object\n",
       "Med. Age                    object\n",
       "Urban Pop %                 object\n",
       "World Share                 object\n",
       "Urban Pop %                float64\n",
       "dtype: object"
      ]
     },
     "execution_count": 338,
     "metadata": {},
     "output_type": "execute_result"
    }
   ],
   "source": [
    "World_cleaned.dtypes"
   ]
  },
  {
   "cell_type": "code",
   "execution_count": null,
   "metadata": {},
   "outputs": [],
   "source": []
  }
 ],
 "metadata": {
  "kernelspec": {
   "display_name": "Python 3",
   "language": "python",
   "name": "python3"
  },
  "language_info": {
   "codemirror_mode": {
    "name": "ipython",
    "version": 3
   },
   "file_extension": ".py",
   "mimetype": "text/x-python",
   "name": "python",
   "nbconvert_exporter": "python",
   "pygments_lexer": "ipython3",
   "version": "3.8.5"
  }
 },
 "nbformat": 4,
 "nbformat_minor": 4
}
